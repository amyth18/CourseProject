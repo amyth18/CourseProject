{
  "cells": [
    {
      "cell_type": "markdown",
      "metadata": {
        "id": "view-in-github",
        "colab_type": "text"
      },
      "source": [
        "<a href=\"https://colab.research.google.com/github/amyth18/CourseProject/blob/main/CS598_Deep_Learning_For_Healthcare_Final_Project.ipynb\" target=\"_parent\"><img src=\"https://colab.research.google.com/assets/colab-badge.svg\" alt=\"Open In Colab\"/></a>"
      ]
    },
    {
      "cell_type": "code",
      "source": [
        "import pandas as pd"
      ],
      "metadata": {
        "id": "yZM4PBDMRCc_"
      },
      "execution_count": null,
      "outputs": []
    },
    {
      "cell_type": "code",
      "execution_count": null,
      "metadata": {
        "colab": {
          "base_uri": "https://localhost:8080/"
        },
        "id": "tFlP8qR9EAEW",
        "outputId": "ff6cf800-16d2-416b-f175-bdbfdd3f0e51"
      },
      "outputs": [
        {
          "output_type": "stream",
          "name": "stdout",
          "text": [
            "Mounted at /content/drive\n"
          ]
        }
      ],
      "source": [
        "from google.colab import drive\n",
        "drive.mount(\"/content/drive\")"
      ]
    },
    {
      "cell_type": "code",
      "source": [
        ""
      ],
      "metadata": {
        "id": "cUqtQH0oAn5b"
      },
      "execution_count": null,
      "outputs": []
    },
    {
      "cell_type": "code",
      "source": [
        ""
      ],
      "metadata": {
        "id": "4853I4whAp3b"
      },
      "execution_count": null,
      "outputs": []
    },
    {
      "cell_type": "code",
      "source": [
        ""
      ],
      "metadata": {
        "id": "l9N33EdyAqWr"
      },
      "execution_count": null,
      "outputs": []
    },
    {
      "cell_type": "code",
      "source": [
        "print(\"Hello\")"
      ],
      "metadata": {
        "id": "3FXUp6hgAqs1",
        "outputId": "7d82ab19-a2a7-452b-fde5-550efafe0651",
        "colab": {
          "base_uri": "https://localhost:8080/"
        }
      },
      "execution_count": null,
      "outputs": [
        {
          "output_type": "stream",
          "name": "stdout",
          "text": [
            "Hello\n"
          ]
        }
      ]
    },
    {
      "cell_type": "markdown",
      "metadata": {
        "id": "bZrO8Ao004k3"
      },
      "source": [
        "# Load Data"
      ]
    },
    {
      "cell_type": "code",
      "execution_count": null,
      "metadata": {
        "colab": {
          "base_uri": "https://localhost:8080/",
          "height": 353
        },
        "id": "pcubO8rgEqXh",
        "outputId": "ff43bfcf-bc38-47ca-a788-f8cc93ab08cb"
      },
      "outputs": [
        {
          "output_type": "error",
          "ename": "FileNotFoundError",
          "evalue": "ignored",
          "traceback": [
            "\u001b[0;31m---------------------------------------------------------------------------\u001b[0m",
            "\u001b[0;31mFileNotFoundError\u001b[0m                         Traceback (most recent call last)",
            "\u001b[0;32m<ipython-input-4-39349b68bdae>\u001b[0m in \u001b[0;36m<module>\u001b[0;34m()\u001b[0m\n\u001b[1;32m      1\u001b[0m \u001b[0;31m# read data\u001b[0m\u001b[0;34m\u001b[0m\u001b[0;34m\u001b[0m\u001b[0;34m\u001b[0m\u001b[0m\n\u001b[0;32m----> 2\u001b[0;31m \u001b[0mdf\u001b[0m \u001b[0;34m=\u001b[0m \u001b[0mpd\u001b[0m\u001b[0;34m.\u001b[0m\u001b[0mread_csv\u001b[0m\u001b[0;34m(\u001b[0m\u001b[0;34m\"/content/drive/My Drive/DLH Final Project/mimic3/NOTEEVENTS.csv\"\u001b[0m\u001b[0;34m)\u001b[0m\u001b[0;34m\u001b[0m\u001b[0;34m\u001b[0m\u001b[0m\n\u001b[0m",
            "\u001b[0;32m/usr/local/lib/python3.7/dist-packages/pandas/util/_decorators.py\u001b[0m in \u001b[0;36mwrapper\u001b[0;34m(*args, **kwargs)\u001b[0m\n\u001b[1;32m    309\u001b[0m                     \u001b[0mstacklevel\u001b[0m\u001b[0;34m=\u001b[0m\u001b[0mstacklevel\u001b[0m\u001b[0;34m,\u001b[0m\u001b[0;34m\u001b[0m\u001b[0;34m\u001b[0m\u001b[0m\n\u001b[1;32m    310\u001b[0m                 )\n\u001b[0;32m--> 311\u001b[0;31m             \u001b[0;32mreturn\u001b[0m \u001b[0mfunc\u001b[0m\u001b[0;34m(\u001b[0m\u001b[0;34m*\u001b[0m\u001b[0margs\u001b[0m\u001b[0;34m,\u001b[0m \u001b[0;34m**\u001b[0m\u001b[0mkwargs\u001b[0m\u001b[0;34m)\u001b[0m\u001b[0;34m\u001b[0m\u001b[0;34m\u001b[0m\u001b[0m\n\u001b[0m\u001b[1;32m    312\u001b[0m \u001b[0;34m\u001b[0m\u001b[0m\n\u001b[1;32m    313\u001b[0m         \u001b[0;32mreturn\u001b[0m \u001b[0mwrapper\u001b[0m\u001b[0;34m\u001b[0m\u001b[0;34m\u001b[0m\u001b[0m\n",
            "\u001b[0;32m/usr/local/lib/python3.7/dist-packages/pandas/io/parsers/readers.py\u001b[0m in \u001b[0;36mread_csv\u001b[0;34m(filepath_or_buffer, sep, delimiter, header, names, index_col, usecols, squeeze, prefix, mangle_dupe_cols, dtype, engine, converters, true_values, false_values, skipinitialspace, skiprows, skipfooter, nrows, na_values, keep_default_na, na_filter, verbose, skip_blank_lines, parse_dates, infer_datetime_format, keep_date_col, date_parser, dayfirst, cache_dates, iterator, chunksize, compression, thousands, decimal, lineterminator, quotechar, quoting, doublequote, escapechar, comment, encoding, encoding_errors, dialect, error_bad_lines, warn_bad_lines, on_bad_lines, delim_whitespace, low_memory, memory_map, float_precision, storage_options)\u001b[0m\n\u001b[1;32m    584\u001b[0m     \u001b[0mkwds\u001b[0m\u001b[0;34m.\u001b[0m\u001b[0mupdate\u001b[0m\u001b[0;34m(\u001b[0m\u001b[0mkwds_defaults\u001b[0m\u001b[0;34m)\u001b[0m\u001b[0;34m\u001b[0m\u001b[0;34m\u001b[0m\u001b[0m\n\u001b[1;32m    585\u001b[0m \u001b[0;34m\u001b[0m\u001b[0m\n\u001b[0;32m--> 586\u001b[0;31m     \u001b[0;32mreturn\u001b[0m \u001b[0m_read\u001b[0m\u001b[0;34m(\u001b[0m\u001b[0mfilepath_or_buffer\u001b[0m\u001b[0;34m,\u001b[0m \u001b[0mkwds\u001b[0m\u001b[0;34m)\u001b[0m\u001b[0;34m\u001b[0m\u001b[0;34m\u001b[0m\u001b[0m\n\u001b[0m\u001b[1;32m    587\u001b[0m \u001b[0;34m\u001b[0m\u001b[0m\n\u001b[1;32m    588\u001b[0m \u001b[0;34m\u001b[0m\u001b[0m\n",
            "\u001b[0;32m/usr/local/lib/python3.7/dist-packages/pandas/io/parsers/readers.py\u001b[0m in \u001b[0;36m_read\u001b[0;34m(filepath_or_buffer, kwds)\u001b[0m\n\u001b[1;32m    480\u001b[0m \u001b[0;34m\u001b[0m\u001b[0m\n\u001b[1;32m    481\u001b[0m     \u001b[0;31m# Create the parser.\u001b[0m\u001b[0;34m\u001b[0m\u001b[0;34m\u001b[0m\u001b[0;34m\u001b[0m\u001b[0m\n\u001b[0;32m--> 482\u001b[0;31m     \u001b[0mparser\u001b[0m \u001b[0;34m=\u001b[0m \u001b[0mTextFileReader\u001b[0m\u001b[0;34m(\u001b[0m\u001b[0mfilepath_or_buffer\u001b[0m\u001b[0;34m,\u001b[0m \u001b[0;34m**\u001b[0m\u001b[0mkwds\u001b[0m\u001b[0;34m)\u001b[0m\u001b[0;34m\u001b[0m\u001b[0;34m\u001b[0m\u001b[0m\n\u001b[0m\u001b[1;32m    483\u001b[0m \u001b[0;34m\u001b[0m\u001b[0m\n\u001b[1;32m    484\u001b[0m     \u001b[0;32mif\u001b[0m \u001b[0mchunksize\u001b[0m \u001b[0;32mor\u001b[0m \u001b[0miterator\u001b[0m\u001b[0;34m:\u001b[0m\u001b[0;34m\u001b[0m\u001b[0;34m\u001b[0m\u001b[0m\n",
            "\u001b[0;32m/usr/local/lib/python3.7/dist-packages/pandas/io/parsers/readers.py\u001b[0m in \u001b[0;36m__init__\u001b[0;34m(self, f, engine, **kwds)\u001b[0m\n\u001b[1;32m    809\u001b[0m             \u001b[0mself\u001b[0m\u001b[0;34m.\u001b[0m\u001b[0moptions\u001b[0m\u001b[0;34m[\u001b[0m\u001b[0;34m\"has_index_names\"\u001b[0m\u001b[0;34m]\u001b[0m \u001b[0;34m=\u001b[0m \u001b[0mkwds\u001b[0m\u001b[0;34m[\u001b[0m\u001b[0;34m\"has_index_names\"\u001b[0m\u001b[0;34m]\u001b[0m\u001b[0;34m\u001b[0m\u001b[0;34m\u001b[0m\u001b[0m\n\u001b[1;32m    810\u001b[0m \u001b[0;34m\u001b[0m\u001b[0m\n\u001b[0;32m--> 811\u001b[0;31m         \u001b[0mself\u001b[0m\u001b[0;34m.\u001b[0m\u001b[0m_engine\u001b[0m \u001b[0;34m=\u001b[0m \u001b[0mself\u001b[0m\u001b[0;34m.\u001b[0m\u001b[0m_make_engine\u001b[0m\u001b[0;34m(\u001b[0m\u001b[0mself\u001b[0m\u001b[0;34m.\u001b[0m\u001b[0mengine\u001b[0m\u001b[0;34m)\u001b[0m\u001b[0;34m\u001b[0m\u001b[0;34m\u001b[0m\u001b[0m\n\u001b[0m\u001b[1;32m    812\u001b[0m \u001b[0;34m\u001b[0m\u001b[0m\n\u001b[1;32m    813\u001b[0m     \u001b[0;32mdef\u001b[0m \u001b[0mclose\u001b[0m\u001b[0;34m(\u001b[0m\u001b[0mself\u001b[0m\u001b[0;34m)\u001b[0m\u001b[0;34m:\u001b[0m\u001b[0;34m\u001b[0m\u001b[0;34m\u001b[0m\u001b[0m\n",
            "\u001b[0;32m/usr/local/lib/python3.7/dist-packages/pandas/io/parsers/readers.py\u001b[0m in \u001b[0;36m_make_engine\u001b[0;34m(self, engine)\u001b[0m\n\u001b[1;32m   1038\u001b[0m             )\n\u001b[1;32m   1039\u001b[0m         \u001b[0;31m# error: Too many arguments for \"ParserBase\"\u001b[0m\u001b[0;34m\u001b[0m\u001b[0;34m\u001b[0m\u001b[0;34m\u001b[0m\u001b[0m\n\u001b[0;32m-> 1040\u001b[0;31m         \u001b[0;32mreturn\u001b[0m \u001b[0mmapping\u001b[0m\u001b[0;34m[\u001b[0m\u001b[0mengine\u001b[0m\u001b[0;34m]\u001b[0m\u001b[0;34m(\u001b[0m\u001b[0mself\u001b[0m\u001b[0;34m.\u001b[0m\u001b[0mf\u001b[0m\u001b[0;34m,\u001b[0m \u001b[0;34m**\u001b[0m\u001b[0mself\u001b[0m\u001b[0;34m.\u001b[0m\u001b[0moptions\u001b[0m\u001b[0;34m)\u001b[0m  \u001b[0;31m# type: ignore[call-arg]\u001b[0m\u001b[0;34m\u001b[0m\u001b[0;34m\u001b[0m\u001b[0m\n\u001b[0m\u001b[1;32m   1041\u001b[0m \u001b[0;34m\u001b[0m\u001b[0m\n\u001b[1;32m   1042\u001b[0m     \u001b[0;32mdef\u001b[0m \u001b[0m_failover_to_python\u001b[0m\u001b[0;34m(\u001b[0m\u001b[0mself\u001b[0m\u001b[0;34m)\u001b[0m\u001b[0;34m:\u001b[0m\u001b[0;34m\u001b[0m\u001b[0;34m\u001b[0m\u001b[0m\n",
            "\u001b[0;32m/usr/local/lib/python3.7/dist-packages/pandas/io/parsers/c_parser_wrapper.py\u001b[0m in \u001b[0;36m__init__\u001b[0;34m(self, src, **kwds)\u001b[0m\n\u001b[1;32m     49\u001b[0m \u001b[0;34m\u001b[0m\u001b[0m\n\u001b[1;32m     50\u001b[0m         \u001b[0;31m# open handles\u001b[0m\u001b[0;34m\u001b[0m\u001b[0;34m\u001b[0m\u001b[0;34m\u001b[0m\u001b[0m\n\u001b[0;32m---> 51\u001b[0;31m         \u001b[0mself\u001b[0m\u001b[0;34m.\u001b[0m\u001b[0m_open_handles\u001b[0m\u001b[0;34m(\u001b[0m\u001b[0msrc\u001b[0m\u001b[0;34m,\u001b[0m \u001b[0mkwds\u001b[0m\u001b[0;34m)\u001b[0m\u001b[0;34m\u001b[0m\u001b[0;34m\u001b[0m\u001b[0m\n\u001b[0m\u001b[1;32m     52\u001b[0m         \u001b[0;32massert\u001b[0m \u001b[0mself\u001b[0m\u001b[0;34m.\u001b[0m\u001b[0mhandles\u001b[0m \u001b[0;32mis\u001b[0m \u001b[0;32mnot\u001b[0m \u001b[0;32mNone\u001b[0m\u001b[0;34m\u001b[0m\u001b[0;34m\u001b[0m\u001b[0m\n\u001b[1;32m     53\u001b[0m \u001b[0;34m\u001b[0m\u001b[0m\n",
            "\u001b[0;32m/usr/local/lib/python3.7/dist-packages/pandas/io/parsers/base_parser.py\u001b[0m in \u001b[0;36m_open_handles\u001b[0;34m(self, src, kwds)\u001b[0m\n\u001b[1;32m    227\u001b[0m             \u001b[0mmemory_map\u001b[0m\u001b[0;34m=\u001b[0m\u001b[0mkwds\u001b[0m\u001b[0;34m.\u001b[0m\u001b[0mget\u001b[0m\u001b[0;34m(\u001b[0m\u001b[0;34m\"memory_map\"\u001b[0m\u001b[0;34m,\u001b[0m \u001b[0;32mFalse\u001b[0m\u001b[0;34m)\u001b[0m\u001b[0;34m,\u001b[0m\u001b[0;34m\u001b[0m\u001b[0;34m\u001b[0m\u001b[0m\n\u001b[1;32m    228\u001b[0m             \u001b[0mstorage_options\u001b[0m\u001b[0;34m=\u001b[0m\u001b[0mkwds\u001b[0m\u001b[0;34m.\u001b[0m\u001b[0mget\u001b[0m\u001b[0;34m(\u001b[0m\u001b[0;34m\"storage_options\"\u001b[0m\u001b[0;34m,\u001b[0m \u001b[0;32mNone\u001b[0m\u001b[0;34m)\u001b[0m\u001b[0;34m,\u001b[0m\u001b[0;34m\u001b[0m\u001b[0;34m\u001b[0m\u001b[0m\n\u001b[0;32m--> 229\u001b[0;31m             \u001b[0merrors\u001b[0m\u001b[0;34m=\u001b[0m\u001b[0mkwds\u001b[0m\u001b[0;34m.\u001b[0m\u001b[0mget\u001b[0m\u001b[0;34m(\u001b[0m\u001b[0;34m\"encoding_errors\"\u001b[0m\u001b[0;34m,\u001b[0m \u001b[0;34m\"strict\"\u001b[0m\u001b[0;34m)\u001b[0m\u001b[0;34m,\u001b[0m\u001b[0;34m\u001b[0m\u001b[0;34m\u001b[0m\u001b[0m\n\u001b[0m\u001b[1;32m    230\u001b[0m         )\n\u001b[1;32m    231\u001b[0m \u001b[0;34m\u001b[0m\u001b[0m\n",
            "\u001b[0;32m/usr/local/lib/python3.7/dist-packages/pandas/io/common.py\u001b[0m in \u001b[0;36mget_handle\u001b[0;34m(path_or_buf, mode, encoding, compression, memory_map, is_text, errors, storage_options)\u001b[0m\n\u001b[1;32m    705\u001b[0m                 \u001b[0mencoding\u001b[0m\u001b[0;34m=\u001b[0m\u001b[0mioargs\u001b[0m\u001b[0;34m.\u001b[0m\u001b[0mencoding\u001b[0m\u001b[0;34m,\u001b[0m\u001b[0;34m\u001b[0m\u001b[0;34m\u001b[0m\u001b[0m\n\u001b[1;32m    706\u001b[0m                 \u001b[0merrors\u001b[0m\u001b[0;34m=\u001b[0m\u001b[0merrors\u001b[0m\u001b[0;34m,\u001b[0m\u001b[0;34m\u001b[0m\u001b[0;34m\u001b[0m\u001b[0m\n\u001b[0;32m--> 707\u001b[0;31m                 \u001b[0mnewline\u001b[0m\u001b[0;34m=\u001b[0m\u001b[0;34m\"\"\u001b[0m\u001b[0;34m,\u001b[0m\u001b[0;34m\u001b[0m\u001b[0;34m\u001b[0m\u001b[0m\n\u001b[0m\u001b[1;32m    708\u001b[0m             )\n\u001b[1;32m    709\u001b[0m         \u001b[0;32melse\u001b[0m\u001b[0;34m:\u001b[0m\u001b[0;34m\u001b[0m\u001b[0;34m\u001b[0m\u001b[0m\n",
            "\u001b[0;31mFileNotFoundError\u001b[0m: [Errno 2] No such file or directory: '/content/drive/My Drive/DLH Final Project/mimic3/NOTEEVENTS.csv'"
          ]
        }
      ],
      "source": [
        "# read data\n",
        "df = pd.read_csv(\"/content/drive/My Drive/DLH Final Project/mimic3/NOTEEVENTS.csv\")"
      ]
    },
    {
      "cell_type": "code",
      "execution_count": null,
      "metadata": {
        "id": "hpdFCQQNhsBr",
        "colab": {
          "base_uri": "https://localhost:8080/",
          "height": 315
        },
        "outputId": "c406a8e9-0cc0-4389-d3cd-7ada35ac2071"
      },
      "outputs": [
        {
          "output_type": "execute_result",
          "data": {
            "text/plain": [
              "   ROW_ID  SUBJECT_ID   HADM_ID   CHARTDATE CHARTTIME STORETIME  \\\n",
              "0     174       22532  167853.0  2151-08-04       NaN       NaN   \n",
              "1     175       13702  107527.0  2118-06-14       NaN       NaN   \n",
              "\n",
              "            CATEGORY DESCRIPTION  CGID  ISERROR  \\\n",
              "0  Discharge summary      Report   NaN      NaN   \n",
              "1  Discharge summary      Report   NaN      NaN   \n",
              "\n",
              "                                                TEXT  \n",
              "0  Admission Date:  [**2151-7-16**]       Dischar...  \n",
              "1  Admission Date:  [**2118-6-2**]       Discharg...  "
            ],
            "text/html": [
              "\n",
              "  <div id=\"df-9ebeff63-829e-4cbb-8bda-1ae405c58d59\">\n",
              "    <div class=\"colab-df-container\">\n",
              "      <div>\n",
              "<style scoped>\n",
              "    .dataframe tbody tr th:only-of-type {\n",
              "        vertical-align: middle;\n",
              "    }\n",
              "\n",
              "    .dataframe tbody tr th {\n",
              "        vertical-align: top;\n",
              "    }\n",
              "\n",
              "    .dataframe thead th {\n",
              "        text-align: right;\n",
              "    }\n",
              "</style>\n",
              "<table border=\"1\" class=\"dataframe\">\n",
              "  <thead>\n",
              "    <tr style=\"text-align: right;\">\n",
              "      <th></th>\n",
              "      <th>ROW_ID</th>\n",
              "      <th>SUBJECT_ID</th>\n",
              "      <th>HADM_ID</th>\n",
              "      <th>CHARTDATE</th>\n",
              "      <th>CHARTTIME</th>\n",
              "      <th>STORETIME</th>\n",
              "      <th>CATEGORY</th>\n",
              "      <th>DESCRIPTION</th>\n",
              "      <th>CGID</th>\n",
              "      <th>ISERROR</th>\n",
              "      <th>TEXT</th>\n",
              "    </tr>\n",
              "  </thead>\n",
              "  <tbody>\n",
              "    <tr>\n",
              "      <th>0</th>\n",
              "      <td>174</td>\n",
              "      <td>22532</td>\n",
              "      <td>167853.0</td>\n",
              "      <td>2151-08-04</td>\n",
              "      <td>NaN</td>\n",
              "      <td>NaN</td>\n",
              "      <td>Discharge summary</td>\n",
              "      <td>Report</td>\n",
              "      <td>NaN</td>\n",
              "      <td>NaN</td>\n",
              "      <td>Admission Date:  [**2151-7-16**]       Dischar...</td>\n",
              "    </tr>\n",
              "    <tr>\n",
              "      <th>1</th>\n",
              "      <td>175</td>\n",
              "      <td>13702</td>\n",
              "      <td>107527.0</td>\n",
              "      <td>2118-06-14</td>\n",
              "      <td>NaN</td>\n",
              "      <td>NaN</td>\n",
              "      <td>Discharge summary</td>\n",
              "      <td>Report</td>\n",
              "      <td>NaN</td>\n",
              "      <td>NaN</td>\n",
              "      <td>Admission Date:  [**2118-6-2**]       Discharg...</td>\n",
              "    </tr>\n",
              "  </tbody>\n",
              "</table>\n",
              "</div>\n",
              "      <button class=\"colab-df-convert\" onclick=\"convertToInteractive('df-9ebeff63-829e-4cbb-8bda-1ae405c58d59')\"\n",
              "              title=\"Convert this dataframe to an interactive table.\"\n",
              "              style=\"display:none;\">\n",
              "        \n",
              "  <svg xmlns=\"http://www.w3.org/2000/svg\" height=\"24px\"viewBox=\"0 0 24 24\"\n",
              "       width=\"24px\">\n",
              "    <path d=\"M0 0h24v24H0V0z\" fill=\"none\"/>\n",
              "    <path d=\"M18.56 5.44l.94 2.06.94-2.06 2.06-.94-2.06-.94-.94-2.06-.94 2.06-2.06.94zm-11 1L8.5 8.5l.94-2.06 2.06-.94-2.06-.94L8.5 2.5l-.94 2.06-2.06.94zm10 10l.94 2.06.94-2.06 2.06-.94-2.06-.94-.94-2.06-.94 2.06-2.06.94z\"/><path d=\"M17.41 7.96l-1.37-1.37c-.4-.4-.92-.59-1.43-.59-.52 0-1.04.2-1.43.59L10.3 9.45l-7.72 7.72c-.78.78-.78 2.05 0 2.83L4 21.41c.39.39.9.59 1.41.59.51 0 1.02-.2 1.41-.59l7.78-7.78 2.81-2.81c.8-.78.8-2.07 0-2.86zM5.41 20L4 18.59l7.72-7.72 1.47 1.35L5.41 20z\"/>\n",
              "  </svg>\n",
              "      </button>\n",
              "      \n",
              "  <style>\n",
              "    .colab-df-container {\n",
              "      display:flex;\n",
              "      flex-wrap:wrap;\n",
              "      gap: 12px;\n",
              "    }\n",
              "\n",
              "    .colab-df-convert {\n",
              "      background-color: #E8F0FE;\n",
              "      border: none;\n",
              "      border-radius: 50%;\n",
              "      cursor: pointer;\n",
              "      display: none;\n",
              "      fill: #1967D2;\n",
              "      height: 32px;\n",
              "      padding: 0 0 0 0;\n",
              "      width: 32px;\n",
              "    }\n",
              "\n",
              "    .colab-df-convert:hover {\n",
              "      background-color: #E2EBFA;\n",
              "      box-shadow: 0px 1px 2px rgba(60, 64, 67, 0.3), 0px 1px 3px 1px rgba(60, 64, 67, 0.15);\n",
              "      fill: #174EA6;\n",
              "    }\n",
              "\n",
              "    [theme=dark] .colab-df-convert {\n",
              "      background-color: #3B4455;\n",
              "      fill: #D2E3FC;\n",
              "    }\n",
              "\n",
              "    [theme=dark] .colab-df-convert:hover {\n",
              "      background-color: #434B5C;\n",
              "      box-shadow: 0px 1px 3px 1px rgba(0, 0, 0, 0.15);\n",
              "      filter: drop-shadow(0px 1px 2px rgba(0, 0, 0, 0.3));\n",
              "      fill: #FFFFFF;\n",
              "    }\n",
              "  </style>\n",
              "\n",
              "      <script>\n",
              "        const buttonEl =\n",
              "          document.querySelector('#df-9ebeff63-829e-4cbb-8bda-1ae405c58d59 button.colab-df-convert');\n",
              "        buttonEl.style.display =\n",
              "          google.colab.kernel.accessAllowed ? 'block' : 'none';\n",
              "\n",
              "        async function convertToInteractive(key) {\n",
              "          const element = document.querySelector('#df-9ebeff63-829e-4cbb-8bda-1ae405c58d59');\n",
              "          const dataTable =\n",
              "            await google.colab.kernel.invokeFunction('convertToInteractive',\n",
              "                                                     [key], {});\n",
              "          if (!dataTable) return;\n",
              "\n",
              "          const docLinkHtml = 'Like what you see? Visit the ' +\n",
              "            '<a target=\"_blank\" href=https://colab.research.google.com/notebooks/data_table.ipynb>data table notebook</a>'\n",
              "            + ' to learn more about interactive tables.';\n",
              "          element.innerHTML = '';\n",
              "          dataTable['output_type'] = 'display_data';\n",
              "          await google.colab.output.renderOutput(dataTable, element);\n",
              "          const docLink = document.createElement('div');\n",
              "          docLink.innerHTML = docLinkHtml;\n",
              "          element.appendChild(docLink);\n",
              "        }\n",
              "      </script>\n",
              "    </div>\n",
              "  </div>\n",
              "  "
            ]
          },
          "metadata": {},
          "execution_count": 7
        }
      ],
      "source": [
        "df.head(2)"
      ]
    },
    {
      "cell_type": "markdown",
      "metadata": {
        "id": "ASN9TUHWgnz7"
      },
      "source": [
        "# Data Preprocessing\n",
        "Need to focus on 2 tables\n",
        "1. NOTESEVENTS.csv\n",
        "2. DIAGNOSES_ICD.csv\n",
        "\n",
        "Join tables by <subject_id, hadm_id>\n",
        "\n",
        "Construct 2 datasets from \"TEXT\" field in NOTESEVENTS.csv for each <subject_id, hadm_id> pair (i.e discharge summary for that admission.)\n",
        "\n",
        "X1, y and X2, y\n",
        "x1 = sequence of vectors from word2vec \n",
        "x2 = sequence of vectors from tf-idf\n",
        "y = list of icd codes for <subject_id, hadm_id> i.e. diagnosis maded in ICU admission.\n",
        "\n",
        "Need to focus on 50 and 100 most commonly diagnosed diseases.\n",
        "\n",
        "## Common data preprocessing\n",
        "1. Use NLTK + MetaMap to extract only the symptom related entities (how to use MetaMap is unknown atm.)\n",
        "\n",
        "2. Filter out sections in discharge summaries that are related to symptoms only, ignore others to speed up things.\n",
        "\n",
        "3. Negative filters (e.g. \"no sign of breath problem\").\n",
        "\n",
        "## Data processing for X1 (Word2Vec)\n",
        "1. Generate Word2Vec embeddings (currently using Gensim) using \"TEXT\".\n",
        "\n",
        "## Data processing for X2 (TF-IDF)\n",
        "1. Generate TF-IDF vector for each symptom entity.\n",
        "\n",
        "## Data processing for y\n",
        "1. multi-hot encoding?\n",
        " \n",
        "\n",
        "\n"
      ]
    },
    {
      "cell_type": "code",
      "execution_count": null,
      "metadata": {
        "id": "TV7TblwfIxta",
        "colab": {
          "base_uri": "https://localhost:8080/"
        },
        "outputId": "bbd185a6-3829-4833-c130-ea7974093289"
      },
      "outputs": [
        {
          "output_type": "stream",
          "name": "stdout",
          "text": [
            "[nltk_data] Downloading package stopwords to /root/nltk_data...\n",
            "[nltk_data]   Unzipping corpora/stopwords.zip.\n"
          ]
        }
      ],
      "source": [
        "import re\n",
        "import nltk\n",
        "\n",
        "from nltk.corpus import stopwords\n",
        "nltk.download('stopwords')\n",
        "\n",
        "eng_stop_words =  stopwords.words('english')\n",
        "\n",
        "class MySentences(object):\n",
        "    def __init__(self, dframe):\n",
        "        self.dframe = dframe\n",
        "    \n",
        "    # TODO: Keeping only alpha numeric characters and spaces for now.\n",
        "    # need to make this better. Find some good libraries.\n",
        "    def sanitize_text(self, text):\n",
        "      test = text.strip()\n",
        "      text = re.sub(r'\\s\\s+', ' ', text)\n",
        "      text = re.sub(r'[^a-zA-z0-9\\/\\.\\?\\!\\s;,\\'\\-]', '', text)\n",
        "      text = re.sub(r'[\\.\\-\\/\\?\\!;,]', ' ', text)\n",
        "      text = re.sub(r'[\\[\\]]', '', text)\n",
        "      return text\n",
        "\n",
        "    # TODO: adding some basic checks again need to make it better.\n",
        "    def sanitize_words(self, sentence):\n",
        "      return [w for w in sentence if w not in eng_stop_words and not w.isdigit()]\n",
        "\n",
        "    def __iter__(self):\n",
        "        for idx in range(len(self.dframe)):\n",
        "          text = self.sanitize_text(self.dframe[\"TEXT\"][idx])\n",
        "          yield self.sanitize_words(text.split())"
      ]
    },
    {
      "cell_type": "code",
      "source": [
        "df_icd_codes = pd.read_csv(\"/content/drive/My Drive/DLH Final Project/mimic3/DIAGNOSES_ICD.csv\")"
      ],
      "metadata": {
        "id": "0DQMAoiAPJyh"
      },
      "execution_count": null,
      "outputs": []
    },
    {
      "cell_type": "code",
      "source": [
        "df_icd_codes.head(2)"
      ],
      "metadata": {
        "colab": {
          "base_uri": "https://localhost:8080/",
          "height": 112
        },
        "id": "jSOWw_j0Pjbm",
        "outputId": "80f6cd92-cc3b-4a88-d061-81935b65a5a7"
      },
      "execution_count": null,
      "outputs": [
        {
          "output_type": "execute_result",
          "data": {
            "text/plain": [
              "   ROW_ID  SUBJECT_ID  HADM_ID  SEQ_NUM ICD9_CODE\n",
              "0    1297         109   172335      1.0     40301\n",
              "1    1298         109   172335      2.0       486"
            ],
            "text/html": [
              "\n",
              "  <div id=\"df-8c7e901d-73f6-4814-a9cb-8a730d22d1b1\">\n",
              "    <div class=\"colab-df-container\">\n",
              "      <div>\n",
              "<style scoped>\n",
              "    .dataframe tbody tr th:only-of-type {\n",
              "        vertical-align: middle;\n",
              "    }\n",
              "\n",
              "    .dataframe tbody tr th {\n",
              "        vertical-align: top;\n",
              "    }\n",
              "\n",
              "    .dataframe thead th {\n",
              "        text-align: right;\n",
              "    }\n",
              "</style>\n",
              "<table border=\"1\" class=\"dataframe\">\n",
              "  <thead>\n",
              "    <tr style=\"text-align: right;\">\n",
              "      <th></th>\n",
              "      <th>ROW_ID</th>\n",
              "      <th>SUBJECT_ID</th>\n",
              "      <th>HADM_ID</th>\n",
              "      <th>SEQ_NUM</th>\n",
              "      <th>ICD9_CODE</th>\n",
              "    </tr>\n",
              "  </thead>\n",
              "  <tbody>\n",
              "    <tr>\n",
              "      <th>0</th>\n",
              "      <td>1297</td>\n",
              "      <td>109</td>\n",
              "      <td>172335</td>\n",
              "      <td>1.0</td>\n",
              "      <td>40301</td>\n",
              "    </tr>\n",
              "    <tr>\n",
              "      <th>1</th>\n",
              "      <td>1298</td>\n",
              "      <td>109</td>\n",
              "      <td>172335</td>\n",
              "      <td>2.0</td>\n",
              "      <td>486</td>\n",
              "    </tr>\n",
              "  </tbody>\n",
              "</table>\n",
              "</div>\n",
              "      <button class=\"colab-df-convert\" onclick=\"convertToInteractive('df-8c7e901d-73f6-4814-a9cb-8a730d22d1b1')\"\n",
              "              title=\"Convert this dataframe to an interactive table.\"\n",
              "              style=\"display:none;\">\n",
              "        \n",
              "  <svg xmlns=\"http://www.w3.org/2000/svg\" height=\"24px\"viewBox=\"0 0 24 24\"\n",
              "       width=\"24px\">\n",
              "    <path d=\"M0 0h24v24H0V0z\" fill=\"none\"/>\n",
              "    <path d=\"M18.56 5.44l.94 2.06.94-2.06 2.06-.94-2.06-.94-.94-2.06-.94 2.06-2.06.94zm-11 1L8.5 8.5l.94-2.06 2.06-.94-2.06-.94L8.5 2.5l-.94 2.06-2.06.94zm10 10l.94 2.06.94-2.06 2.06-.94-2.06-.94-.94-2.06-.94 2.06-2.06.94z\"/><path d=\"M17.41 7.96l-1.37-1.37c-.4-.4-.92-.59-1.43-.59-.52 0-1.04.2-1.43.59L10.3 9.45l-7.72 7.72c-.78.78-.78 2.05 0 2.83L4 21.41c.39.39.9.59 1.41.59.51 0 1.02-.2 1.41-.59l7.78-7.78 2.81-2.81c.8-.78.8-2.07 0-2.86zM5.41 20L4 18.59l7.72-7.72 1.47 1.35L5.41 20z\"/>\n",
              "  </svg>\n",
              "      </button>\n",
              "      \n",
              "  <style>\n",
              "    .colab-df-container {\n",
              "      display:flex;\n",
              "      flex-wrap:wrap;\n",
              "      gap: 12px;\n",
              "    }\n",
              "\n",
              "    .colab-df-convert {\n",
              "      background-color: #E8F0FE;\n",
              "      border: none;\n",
              "      border-radius: 50%;\n",
              "      cursor: pointer;\n",
              "      display: none;\n",
              "      fill: #1967D2;\n",
              "      height: 32px;\n",
              "      padding: 0 0 0 0;\n",
              "      width: 32px;\n",
              "    }\n",
              "\n",
              "    .colab-df-convert:hover {\n",
              "      background-color: #E2EBFA;\n",
              "      box-shadow: 0px 1px 2px rgba(60, 64, 67, 0.3), 0px 1px 3px 1px rgba(60, 64, 67, 0.15);\n",
              "      fill: #174EA6;\n",
              "    }\n",
              "\n",
              "    [theme=dark] .colab-df-convert {\n",
              "      background-color: #3B4455;\n",
              "      fill: #D2E3FC;\n",
              "    }\n",
              "\n",
              "    [theme=dark] .colab-df-convert:hover {\n",
              "      background-color: #434B5C;\n",
              "      box-shadow: 0px 1px 3px 1px rgba(0, 0, 0, 0.15);\n",
              "      filter: drop-shadow(0px 1px 2px rgba(0, 0, 0, 0.3));\n",
              "      fill: #FFFFFF;\n",
              "    }\n",
              "  </style>\n",
              "\n",
              "      <script>\n",
              "        const buttonEl =\n",
              "          document.querySelector('#df-8c7e901d-73f6-4814-a9cb-8a730d22d1b1 button.colab-df-convert');\n",
              "        buttonEl.style.display =\n",
              "          google.colab.kernel.accessAllowed ? 'block' : 'none';\n",
              "\n",
              "        async function convertToInteractive(key) {\n",
              "          const element = document.querySelector('#df-8c7e901d-73f6-4814-a9cb-8a730d22d1b1');\n",
              "          const dataTable =\n",
              "            await google.colab.kernel.invokeFunction('convertToInteractive',\n",
              "                                                     [key], {});\n",
              "          if (!dataTable) return;\n",
              "\n",
              "          const docLinkHtml = 'Like what you see? Visit the ' +\n",
              "            '<a target=\"_blank\" href=https://colab.research.google.com/notebooks/data_table.ipynb>data table notebook</a>'\n",
              "            + ' to learn more about interactive tables.';\n",
              "          element.innerHTML = '';\n",
              "          dataTable['output_type'] = 'display_data';\n",
              "          await google.colab.output.renderOutput(dataTable, element);\n",
              "          const docLink = document.createElement('div');\n",
              "          docLink.innerHTML = docLinkHtml;\n",
              "          element.appendChild(docLink);\n",
              "        }\n",
              "      </script>\n",
              "    </div>\n",
              "  </div>\n",
              "  "
            ]
          },
          "metadata": {},
          "execution_count": 10
        }
      ]
    },
    {
      "cell_type": "code",
      "source": [
        "counts = df_icd_codes[\"ICD9_CODE\"].value_counts().head(50)\n",
        "top_icd_codes = counts.index.to_list()\n",
        "df_admissions_with_top_diseases = df_icd_codes[df_icd_codes[\"ICD9_CODE\"].isin(top_icd_codes)]\n",
        "df_unique_admissions_with_top_diseases = df_admissions_with_top_diseases[[\"SUBJECT_ID\", \"HADM_ID\"]].drop_duplicates()"
      ],
      "metadata": {
        "id": "jNY4o2-_PsJD"
      },
      "execution_count": null,
      "outputs": []
    },
    {
      "cell_type": "code",
      "source": [
        "len(df_unique_admissions_with_top_diseases)"
      ],
      "metadata": {
        "colab": {
          "base_uri": "https://localhost:8080/"
        },
        "id": "BwGkNFoe2Zku",
        "outputId": "0cab1d5a-c521-498c-b509-41f16d9fd1de"
      },
      "execution_count": null,
      "outputs": [
        {
          "output_type": "execute_result",
          "data": {
            "text/plain": [
              "55078"
            ]
          },
          "metadata": {},
          "execution_count": 12
        }
      ]
    },
    {
      "cell_type": "code",
      "source": [
        "filtered_df = pd.merge(df, df_unique_admissions_with_top_diseases, on=[\"SUBJECT_ID\", \"HADM_ID\"])"
      ],
      "metadata": {
        "id": "BGIpZW0wfKaO"
      },
      "execution_count": null,
      "outputs": []
    },
    {
      "cell_type": "code",
      "source": [
        "filtered_df_disc_sum = filtered_df[filtered_df[\"CATEGORY\"] == 'Discharge summary'].reset_index()\n",
        "print(len(filtered_df_disc_sum))\n",
        "print(filtered_df_disc_sum.head(5))"
      ],
      "metadata": {
        "colab": {
          "base_uri": "https://localhost:8080/"
        },
        "id": "uq8Tyrvl3kgR",
        "outputId": "949f6b94-c026-48df-cf88-400df606e3c3"
      },
      "execution_count": null,
      "outputs": [
        {
          "output_type": "stream",
          "name": "stdout",
          "text": [
            "55988\n",
            "   index  ROW_ID  SUBJECT_ID   HADM_ID   CHARTDATE CHARTTIME STORETIME  \\\n",
            "0      0     174       22532  167853.0  2151-08-04       NaN       NaN   \n",
            "1      1     170       22532  167853.0  2151-08-04       NaN       NaN   \n",
            "2     32     175       13702  107527.0  2118-06-14       NaN       NaN   \n",
            "3     79     176       13702  167118.0  2119-05-25       NaN       NaN   \n",
            "4    186     177       13702  196489.0  2124-08-18       NaN       NaN   \n",
            "\n",
            "            CATEGORY DESCRIPTION  CGID  ISERROR  \\\n",
            "0  Discharge summary      Report   NaN      NaN   \n",
            "1  Discharge summary      Report   NaN      NaN   \n",
            "2  Discharge summary      Report   NaN      NaN   \n",
            "3  Discharge summary      Report   NaN      NaN   \n",
            "4  Discharge summary      Report   NaN      NaN   \n",
            "\n",
            "                                                TEXT  \n",
            "0  Admission Date:  [**2151-7-16**]       Dischar...  \n",
            "1  Admission Date:  [**2151-7-16**]       Dischar...  \n",
            "2  Admission Date:  [**2118-6-2**]       Discharg...  \n",
            "3  Admission Date:  [**2119-5-4**]              D...  \n",
            "4  Admission Date:  [**2124-7-21**]              ...  \n"
          ]
        }
      ]
    },
    {
      "cell_type": "markdown",
      "metadata": {
        "id": "LtkOmANy0TNN"
      },
      "source": [
        "Test code for sentence generator"
      ]
    },
    {
      "cell_type": "code",
      "execution_count": null,
      "metadata": {
        "id": "MpcGs80SV-tO",
        "colab": {
          "base_uri": "https://localhost:8080/"
        },
        "outputId": "b71c5056-601e-4b6e-de46-a23c23d48edd"
      },
      "outputs": [
        {
          "output_type": "stream",
          "name": "stdout",
          "text": [
            "['Admission', 'Date', 'Discharge', 'Date', 'Service', 'ADDENDUM', 'RADIOLOGIC', 'STUDIES', 'Radiologic', 'studies', 'also', 'included', 'chest', 'CT', 'confirmed', 'cavitary', 'lesions', 'left', 'lung', 'apex', 'consistent', 'infectious', 'process', 'tuberculosis', 'This', 'also', 'moderate', 'sized', 'left', 'pleural', 'effusion', 'HEAD', 'CT', 'Head', 'CT', 'showed', 'intracranial', 'hemorrhage', 'mass', 'effect', 'old', 'infarction', 'consistent', 'past', 'medical', 'history', 'ABDOMINAL', 'CT', 'Abdominal', 'CT', 'showed', 'lesions', 'T10', 'sacrum', 'likely', 'secondary', 'osteoporosis', 'These', 'followed', 'repeat', 'imaging', 'outpatient', 'First', 'Name8', 'NamePattern2', 'First', 'Name4', 'NamePattern1', 'Last', 'Name', 'NamePattern1', 'M', 'D', 'MD', 'Number1', 'Dictated', 'ByHospital', 'MEDQUIST36', 'D', 'T', 'JOB', 'Job', 'Number']\n",
            "['Admission', 'Date', 'Discharge', 'Date', 'HISTORY', 'OF', 'PRESENT', 'ILLNESS', 'The', 'patient', 'year', 'old', 'African', 'American', 'female', 'morning', 'found', 'floor', 'unair', 'conditioned', 'home', 'relative', 'heat', 'wave', 'She', 'conscious', 'The', 'family', 'reports', 'drinking', 'much', 'feeling', 'well', 'one', 'day', 'prior', 'admission', 'The', 'family', 'also', 'reports', 'productive', 'cough', 'lb', 'weight', 'loss', 'last', 'three', 'months', 'shortness', 'breath', 'last', 'months', 'worsened', 'exertion', 'increasing', 'edema', 'The', 'patient', 'taken', 'Emergency', 'Department', 'rectal', 'irregular', 'Blood', 'pressure', 'respiratory', 'rate', 'Cooling', 'measures', 'started', 'Emergency', 'Department', 'She', 'placed', 'oxygen', 'nonrebreather', 'mask', 'The', 'patient', 'gradually', 'became', 'alert', 'oriented', 'times', 'two', 'In', 'Emergency', 'Department', 'subsequently', 'became', 'hypotensive', 'blood', 'pressure', 'heart', 'rate', 'irregular', 'More', 'aggressive', 'fluid', 'resuscitation', 'started', 'She', 'briefly', 'placed', 'Norepinephrine', 'drip', 'hemodynamic', 'instability', 'later', 'changed', 'Levophed', 'drip', 'A', 'central', 'line', 'placed', 'The', \"patient's\", 'temperature', 'gradually', 'came', 'several', 'hours', 'Laboratory', 'studies', 'blood', 'cultures', 'drawn', 'Chest', 'x', 'ray', 'done', 'Electrocardiogram', 'urinalysis', 'arterial', 'blood', 'gases', 'doneand', 'patient', 'started', 'broad', 'spectrum', 'antibiotics', 'PAST', 'MEDICAL', 'HISTORY', 'Cardiomyopathy', 'idiopathic', 'echocardiogram', 'showed', 'ejection', 'fraction', 'Hypertension', 'Pulmonary', 'hypertension', 'Chronic', 'atrial', 'fibrillation', 'Intermittent', 'left', 'bundle', 'branch', 'block', 'History', 'anemia', 'heme', 'positive', 'stools', 'previously', 'refused', 'colonoscopy', 'History', 'previous', 'pulmonary', 'embolism', 'History', 'previous', 'stroke', 'History', 'previous', 'myocardial', 'infarction', 'undocumented', 'Chronic', 'right', 'sided', 'pleural', 'effusion', 'first', 'found', 'History', 'multiple', 'episodes', 'cellulitis', 'Claustrophobia', 'MEDICATIONS', 'ON', 'ADMISSION', 'Coumadin', 'mg', 'alternating', 'mg', 'q', 'Lasix', 'mg', 'q', 'Lisinopril', 'mg', 'q', 'Diltiazem', 'mg', 'q', 'Digoxin', 'mg', 'q', 'ALLERGIES', 'No', 'known', 'drug', 'allergies', 'SOCIAL', 'HISTORY', 'The', 'patient', 'African', 'American', 'female', 'lived', 'alone', 'Family', 'checks', 'often', 'lives', 'nearby', 'FAMILY', 'HISTORY', 'There', 'family', 'history', 'colon', 'cancer', 'PHYSICAL', 'EXAMINATION', 'On', 'physical', 'examination', 'noted', 'Emergency', 'Department', 'Medicine', 'Intensive', 'Care', 'Unit', 'notes', 'General', 'thin', 'malnourished', 'African', 'American', 'female', 'disoriented', 'Head', 'eyes', 'ears', 'nose', 'throat', 'pupils', 'equal', 'round', 'reactive', 'light', 'extraocular', 'movements', 'intact', 'Dry', 'mucous', 'membranes', 'Oropharynx', 'clear', 'Neck', 'supple', 'Jugulovenous', 'distension', 'noted', 'cm', 'Lungs', 'bibasilar', 'crackles', 'denies', 'cough', 'Rhonchi', 'throughout', 'No', 'wheezes', 'Cardiovascular', 'irregularly', 'irregular', 'rhythm', 'II', 'VI', 'systolic', 'murmur', 'Abdominal', 'positive', 'bowel', 'sounds', 'soft', 'nontender', 'nondistended', 'rebound', 'guarding', 'No', 'masses', 'Guaiac', 'positive', 'rectal', 'examination', 'Extremities', 'edema', 'severe', 'chronic', 'venous', 'insufficiency', 'stasis', 'dermatitis', 'lower', 'extremities', 'pulses', 'bilaterally', 'Neurological', 'photophobia', 'The', 'patient', 'waxes', 'wanes', 'disorientation', 'LABORATORY', 'DATA', 'Complete', 'blood', 'count', 'showed', 'white', 'count', 'hematocrit', 'platelets', 'differential', 'neutrophils', 'lymphocytes', 'monocyte', 'Chem', 'sodium', 'potassium', 'chloride', 'bicarbonate', 'BUN', 'creatinine', 'glucose', 'PT', 'INR', 'PTT', 'Lactate', 'calcium', 'magnesium', 'prostate', 'CK', 'alkaline', 'phosphatase', 'total', 'bilirubin', 'ALT', 'AST', 'Electrocardiogram', 'showed', 'atrial', 'fibrillation', 'rate', 'left', 'bundle', 'branch', 'block', 'Chest', 'x', 'ray', 'showed', 'possible', 'interstitial', 'edema', 'persistent', 'right', 'basilar', 'opacity', 'could', 'represent', 'pleural', 'thickening', 'effusion', 'possible', 'infection', 'process', 'right', 'lung', 'Infection', 'could', 'excluded', 'New', 'opacities', 'left', 'lung', 'apex', 'concerning', 'acute', 'infection', 'INTENSIVE', 'CARE', 'UNIT', 'COURSE', 'In', 'Medicine', 'Intensive', 'Care', 'Unit', 'pressors', 'discontinued', 'hours', 'admission', 'secondary', 'improved', 'hemodynamic', 'instability', 'Repeat', 'chest', 'x', 'ray', 'showed', 'possible', 'pneumonia', 'lower', 'lobes', 'cavitary', 'lesion', 'left', 'upper', 'lobe', 'concerning', 'tuberculosis', 'The', 'patient', 'subsequently', 'placed', 'negative', 'pressure', 'room', 'respiratory', 'precautions', 'started', 'The', 'patient', 'also', 'three', 'cycles', 'induced', 'sputums', 'acid', 'fast', 'bacillus', 'smear', 'culture', 'Antibiotics', 'continued', 'On', 'hospital', 'day', 'patient', 'began', 'taking', 'p', 'She', 'remained', 'afebrile', 'throughout', 'hospital', 'course', 'On', 'hospital', 'day', 'patient', 'transferred', 'Medicine', 'Service', 'acid', 'fast', 'bacillus', 'smear', 'hospital', 'day', 'came', 'back', 'moderately', 'positive', 'acid', 'fast', 'bacilli', 'HOSPITAL', 'COURSE', 'Infectious', 'disease', 'As', 'noted', 'repeat', 'chest', 'x', 'ray', 'showed', 'cavitary', 'lesions', 'left', 'apex', 'On', 'hospital', 'day', 'patient', 'placed', 'isolation', 'respiratory', 'precautions', 'negative', 'pressure', 'isolation', 'room', 'Acid', 'fast', 'sputums', 'times', 'three', 'taken', 'acid', 'fast', 'bacilli', 'On', 'hospital', 'day', 'sputum', 'Doctor', 'Last', 'Name', 'hospital', 'day', 'showed', 'positive', 'acid', 'fast', 'bacilli', 'Infectious', 'Disease', 'consult', 'called', 'On', 'hospital', 'day', 'patient', 'started', 'Isoniazid', 'Rifampin', 'Pyrazinamide', 'pulmonary', 'TB', 'Ethambutol', 'started', 'hospital', 'day', 'Infectious', 'Control', 'Department', 'Public', 'Health', 'notified', 'got', 'touch', 'family', 'members', 'hospital', 'staff', 'The', 'patient', 'completed', 'seven', 'day', 'course', 'Ceftriaxone', 'Azithromycin', 'five', 'days', 'question', 'aspiration', 'pneumonia', 'All', \"patient's\", 'blood', 'cultures', 'sputum', 'urine', 'cultures', 'She', 'Clostridium', 'difficile', 'negative', 'RPR', 'negative', 'There', 'three', 'attempts', 'one', 'fluoroscopy', 'guided', 'lumbar', 'puncture', 'evaluate', 'meningeal', 'tuberculosis', 'unsuccessful', 'due', 'severe', 'degenerative', 'joint', 'disease', 'spine', 'Ultimately', 'decided', 'low', 'suspicion', 'CNS', 'TB', 'given', 'patients', 'improvement', 'mental', 'status', 'Final', 'recommendations', 'duration', 'antituberculosis', 'regimen', 'given', 'later', 'date', 'Infectious', 'Disease', 'Service', 'Sensitivities', 'pending', 'tuberculosis', 'Tuberculosis', 'confirmed', 'PCR', 'gene', 'probe', 'The', 'patient', 'remained', 'throughout', 'rest', 'hospital', 'day', 'throughout', 'hospital', 'course', 'isolation', 'negative', 'pressure', 'room', 'respiratory', 'precautions', 'She', 'remain', 'negative', 'acid', 'fast', 'bacillus', 'cultures', 'three', 'sputums', 'Sputum', 'hospital', 'day', 'positive', 'acid', 'fast', 'bacilli', 'thus', 'remamined', 'isolation', 'Pulmonary', 'The', \"patient's\", 'initial', 'acute', 'respiratory', 'acidosis', 'corrected', 'resolution', 'hypoventilation', 'secondary', 'carbon', 'dioxide', 'retention', 'dehydration', 'In', 'Medicine', 'Intensive', 'Care', 'Unit', 'followed', 'repeated', 'arterial', 'blood', 'gases', 'The', 'patient', 'denied', 'shortness', 'breath', 'throughout', 'She', 'positive', 'productive', 'cough', 'The', 'patient', 'episode', 'somnolence', 'supplemental', 'oxygen', 'turned', 'secondary', 'carbon', 'dioxide', 'retention', 'Somnolence', 'resolved', 'supplemental', 'oxygen', 'decreased', 'She', 'kept', 'oxygen', 'approximately', 'liter', 'keep', 'saturations', 'On', 'hospital', 'day', 'thoracentesis', 'performed', 'new', 'left', 'effusion', 'complications', 'showed', 'white', 'blood', 'cells', 'l', 'red', 'blood', 'cells', 'differential', 'neutrophils', 'lymphocytes', 'monocytes', 'eosinophils', 'Protein', 'glucose', 'LDH', 'PH', 'Gram', 'stain', 'negative', 'Doctor', 'First', 'Name', 'negative', 'Smear', 'negative', 'Effusion', 'consistent', 'transudative', 'process', 'On', 'hospital', 'day', 'thoracentesis', 'performed', 'right', 'pleural', 'effusion', 'red', 'blood', 'cells', 'red', 'blood', 'cells', 'protein', 'glucose', 'LDH', 'PH', 'gram', 'stain', 'negative', 'At', 'time', 'discharge', 'Doctor', 'First', 'Name', 'still', 'pending', 'smears', 'negative', 'Cultures', 'time', 'still', 'pending', 'pleural', 'effusions', 'negative', 'malignant', 'cells', 'Cardiovascular', 'As', 'noted', 'patient', 'rapid', 'atrial', 'fibrillation', 'initially', 'By', 'hospital', 'day', 'throughout', 'course', 'patient', 'remained', 'rate', 'control', 'atrial', 'fibrillation', 'Digoxin', 'Lasix', 'Metoprolol', 'started', 'Lisinopril', 'also', 'restarted', 'Diltiazem', 'discontinued', 'The', 'patient', 'found', 'troponin', 'leak', 'Troponin', 'peak', 'noted', 'CK', 'MB', 'ranged', 'CKs', 'ranged', 'It', 'thought', 'high', 'troponin', 'CKs', 'secondary', 'myocardial', 'damage', 'suffered', 'heat', 'stroke', 'Echocardiogram', 'hospital', 'day', 'showed', 'right', 'atrium', 'markedly', 'dilated', 'mild', 'symmetric', 'left', 'ventricular', 'hypertrophy', 'severe', 'global', 'ventricular', 'hypokinesis', 'severely', 'depressed', 'left', 'ventricular', 'systolic', 'function', 'pulmonary', 'hypertension', 'There', 'question', 'marantic', 'endocarditis', 'versus', 'degenerative', 'changes', 'aortic', 'valve', 'There', 'significant', 'aortic', 'valve', 'stenosis', 'aortic', 'regurgitation', 'Prior', 'previous', 'report', 'significant', 'change', 'regards', 'left', 'ventricular', 'function', 'On', 'hospital', 'day', 'patient', 'underwent', 'repeat', 'echocardiogram', 'showed', 'left', 'atrium', 'moderately', 'dilated', 'right', 'atrium', 'markedly', 'dilated', 'left', 'ventricular', 'wall', 'thickness', 'normal', 'The', 'overall', 'left', 'ventricular', 'systolic', 'function', 'time', 'considered', 'normal', 'greater', 'There', 'mild', 'moderate', 'mitral', 'regurgitation', 'severe', 'tricuspid', 'regurgitation', 'could', 'rule', 'marantic', 'endocarditis', 'though', 'echogenic', 'density', 'noted', 'aortic', 'cusps', 'consistent', 'degenerative', 'changes', 'The', 'patient', 'subsequently', 'evaluated', 'infective', 'endocarditis', 'blood', 'cultures', 'times', 'three', 'computerized', 'tomography', 'scan', 'head', 'looking', 'signs', 'emboli', 'Computerized', 'tomography', 'scan', 'head', 'results', 'subsequently', 'pending', 'time', 'dictation', 'Digoxin', 'level', 'discharge', 'It', 'recommendation', 'Medicine', 'Staff', 'restart', 'Coumadin', 'mg', 'approximately', 'two', 'days', 'discharge', 'rehabilitation', 'hospital', 'follow', 'INRs', 'every', 'day', 'therapeutic', 'range', 'met', 'We', 'low', 'suspicion', 'infective', 'endocarditis', 'Heme', 'Coumadin', 'held', 'secondary', 'supertherapeutic', 'INR', 'INR', 'peaked', 'Vitamin', 'K', 'times', 'one', 'given', 'INR', 'normalized', 'hospital', 'day', 'Hematocrit', 'stable', 'hospital', 'day', 'hematocrit', 'found', 'secondary', 'occult', 'gastrointestinal', 'bleed', 'The', 'patient', 'transfused', 'unit', 'well', 'tolerated', 'Follow', 'hematocrit', 'Hematocrit', 'remained', 'stable', 'rest', 'hospital', 'course', 'Renal', 'Baseline', 'creatinine', 'She', 'arrived', 'mild', 'prerenal', 'azotemia', 'diuretics', 'held', 'During', 'hospital', 'course', 'required', 'several', 'boluses', 'low', 'urine', 'output', 'The', 'patient', 'started', 'mobilizing', 'fluids', 'approximately', 'hospital', 'day', 'Urine', 'outpatient', 'remained', 'good', 'thereafter', 'Fluids', 'electrolytes', 'nutrition', 'Initial', 'dehydration', 'treated', 'intravenous', 'fluids', 'She', 'tolerated', 'p', 'throughout', 'placement', 'placed', 'thin', 'pureed', 'diet', 'supplemental', 'Boost', 'breakfast', 'lunch', 'dinner', 'This', 'following', 'swallow', 'nutrition', 'evaluations', 'malnutrition', 'She', 'also', 'placed', 'thiamine', 'folate', 'multivitamin', 'supplements', 'Asymptomatic', 'hypercalcemia', 'noted', 'low', 'setting', 'albumin', 'Free', 'calcium', 'noted', 'free', 'calcium', 'discharge', 'noted', 'During', 'hospital', 'stay', 'potassium', 'rose', 'secondary', 'increased', 'dosage', 'ACE', 'inhibitor', 'subsequently', 'Lisinopril', 'decreased', 'mg', 'time', 'potassium', 'normalized', 'Other', 'laboratory', 'studies', 'follows', 'B12', 'folate', 'PTH', 'hydroxy', 'vitamin', 'D', 'less', 'Neurological', 'Change', 'mental', 'status', 'secondary', 'heat', 'stroke', 'malnutrition', 'Throughout', 'hospital', 'course', \"patient's\", 'mental', 'status', 'alert', 'awake', 'oriented', 'two', 'sometimes', 'three', 'On', 'discharge', 'awake', 'alert', 'oriented', 'times', 'three', 'Head', 'computerized', 'tomography', 'scan', 'hospital', 'day', 'performed', 'results', 'pending', 'time', 'dictation', 'Gastrointestinal', 'The', 'patient', 'history', 'heme', 'positive', 'stools', 'refusal', 'colonoscopy', 'She', 'intermittent', 'guaiac', 'positive', 'stools', 'house', 'She', 'seen', 'Gastrointestinal', 'Service', 'possible', 'occult', 'malignancy', 'versus', 'tuberculosis', 'colitis', 'Colonoscopy', 'performed', 'hospital', 'day', 'showed', 'diverticulosis', 'two', 'polyps', 'right', 'colon', 'subsequently', 'removed', 'biopsied', 'Liver', 'function', 'tests', 'followed', 'q', 'two', 'weeks', 'secondary', 'antituberculosis', 'medications', 'Liver', 'function', 'tests', 'tuberculosis', 'medications', 'started', 'within', 'normal', 'limits', 'ALT', 'ALT', 'LDH', 'alkaline', 'phosphatase', 'bilirubin', 'Our', 'medical', 'team', 'recommended', 'rehabilitation', 'hospital', 'follow', 'liver', 'function', 'tests', 'q', 'two', 'weeks', 'Endomysal', 'antibody', 'within', 'normal', 'limits', 'Endocrine', 'Free', 'cortisol', 'noted', 'The', 'hyperclcemia', 'likely', 'due', 'granulomatous', 'disease', 'TB', 'improved', 'treatment', 'TB', 'Musculoskeletal', 'The', 'patient', 'complained', 'early', 'hip', 'soreness', 'X', 'ray', 'pelvis', 'showed', 'fractures', 'The', 'patient', 'followed', 'physical', 'therapy', 'This', 'improved', 'time', 'Prophylaxis', 'The', 'Zantac', 'stomach', 'heparin', 'deep', 'vein', 'thrombosis', 'fall', 'aspiration', 'precautions', 'maintained', 'throughout', 'hospital', 'stay', 'CONDITION', 'ON', 'DISCHARGE', 'Stable', 'Hospital3', 'rehabilitation', 'DISCHARGE', 'INSTRUCTIONS', 'Maintain', 'respiratory', 'precautions', 'keeping', 'patient', 'isolation', 'negative', 'pressure', 'room', 'The', 'patient', 'continue', 'need', 'physical', 'therapy', 'Her', 'diet', 'regular', 'plus', 'Boost', 'DISCHARGE', 'MEDICATIONS', 'Isoniazid', 'mg', 'p', 'q', 'Rifampin', 'mg', 'p', 'q', 'Pyrazinamide', 'mg', 'q', 'Ethambutol', 'mg', 'p', 'q', 'Pyridoxine', 'mg', 'q', 'Note', 'tuberculosis', 'medications', 'given', 'empty', 'stomach', 'Lisinopril', 'mg', 'q', 'Digoxin', 'mg', 'p', 'q', 'Metoprolol', 'mg', 'b', 'Lasix', 'mg', 'p', 'q', 'Aspirin', 'mg', 'p', 'q', 'Heparin', 'units', 'subcutaneously', 'q', 'hours', 'Ranitidine', 'mg', 'p', 'b', 'Nitroglycerin', 'sublingual', 'mg', 'q', 'minutes', 'maximum', 'three', 'doses', 'Colace', 'mg', 'p', 'b', 'prn', 'constipation', 'Folic', 'mg', 'p', 'q', 'Thiamine', 'mg', 'p', 'q', 'Multivitamin', 'p', 'q', 'Tylenol', 'one', 'two', 'tablets', 'p', 'q', 'hours', 'prn', 'pain', 'Tylenol', 'mg', 'mg', 'p', 'q', 'hours', 'prn', 'fever', 'pain', 'It', 'recommended', 'Coumadin', 'restarted', 'mg', 'p', 'q', 'following', 'INR', 'daily', 'therapeutic', 'dose', 'set', 'The', 'patient', 'also', 'require', 'liver', 'function', 'tests', 'checked', 'q', 'two', 'weeks', 'She', 'due', 'next', 'liver', 'function', 'tests', 'next', 'week', 'The', \"patient's\", 'Digoxin', 'level', 'followed', 'q', 'one', 'two', 'weeks', 'Goal', 'digoxon', 'level', 'FOLLOW', 'UP', 'Follow', 'appointment', 'primary', 'care', 'physician', 'Last', 'Name', 'NamePattern4', 'First', 'Name4', 'NamePattern1', 'Last', 'Name', 'NamePattern1', 'PM', 'Hospital', 'Ward', 'Name', 'Center', 'Location', 'un', 'Pulmonary', 'Dr', 'Last', 'Name', 'STitle', 'AM', 'Hospital1', 'Building', 'Location', 'un', 'Infectious', 'Disease', 'Dr', 'Last', 'Name', 'STitle', 'AM', 'Doctor', 'Last', 'Name', 'Building', 'Location', 'un', 'Fall', 'precautions', 'maintained', 'patient', 'bear', 'weight', 'DISCHARGE', 'DIAGNOSIS', 'Pulmonary', 'tuberculosis', 'reactivated', 'Bilateral', 'pleural', 'effusions', 'atrial', 'fibrillation', 'Cardiomyopathy', 'Left', 'bundle', 'branch', 'block', 'hypercalcemia', 'resolved', 'h', 'CVA', 'h', 'PE', 'First', 'Name8', 'NamePattern2', 'First', 'Name4', 'NamePattern1', 'Last', 'Name', 'NamePattern1', 'M', 'D', 'MD', 'Number1', 'Dictated', 'ByLast', 'Name', 'NamePattern1', 'MEDQUIST36', 'D', 'T', 'JOB', 'Job', 'Number']\n"
          ]
        }
      ],
      "source": [
        "sgen = MySentences(filtered_df_disc_sum)\n",
        "sentences = list()\n",
        "for idx, s in enumerate(sgen):\n",
        "  print(s)\n",
        "  if idx == 1:\n",
        "    break"
      ]
    },
    {
      "cell_type": "markdown",
      "metadata": {
        "id": "Gg-GmTrg0i6h"
      },
      "source": [
        "Word2Vec training using gensim."
      ]
    },
    {
      "cell_type": "code",
      "execution_count": null,
      "metadata": {
        "id": "xElMsqPx0sc9"
      },
      "outputs": [],
      "source": [
        "import gensim\n",
        "# NOTE: commenting this part so that we dont run this by mistake.\n",
        "# sgen = MySentences(filtered_df_disc_sum) # a memory-friendly iterator\n",
        "# model = gensim.models.Word2Vec(sgen, min_count=5, workers=4, sample=1e-05)\n",
        "# model.save(\"/content/drive/My Drive/DLH Final Project/mimic3/word2vec.model\")"
      ]
    },
    {
      "cell_type": "code",
      "execution_count": null,
      "metadata": {
        "colab": {
          "base_uri": "https://localhost:8080/"
        },
        "id": "ExAuM0OwB9a5",
        "outputId": "4c1e23ce-8142-47df-e37c-1e1873ec92cc"
      },
      "outputs": [
        {
          "output_type": "stream",
          "name": "stdout",
          "text": [
            "total 3.9G\n",
            "-rw------- 1 root root  19M Mar 19  2019 DIAGNOSES_ICD.csv\n",
            "-rw------- 1 root root 3.8G Jun 14  2019 NOTEEVENTS.csv\n",
            "-rw------- 1 root root  78M Apr 13 08:14 word2vec.model\n"
          ]
        }
      ],
      "source": [
        "!ls -lh \"/content/drive/My Drive/DLH Final Project/mimic3/\""
      ]
    },
    {
      "cell_type": "code",
      "source": [
        "# multi-hot encoding for icd_codes for a given admission\n",
        "\n",
        "series_admissions_with_top_diseases_grouped = \\\n",
        "df_admissions_with_top_diseases.groupby(['SUBJECT_ID', \n",
        "                                         'HADM_ID'])['ICD9_CODE'].apply(list)\n",
        "\n",
        "df_admissions_with_top_diseases_grouped = \\\n",
        "series_admissions_with_top_diseases_grouped.to_frame().reset_index()"
      ],
      "metadata": {
        "id": "gGwGhxO0K5Bv"
      },
      "execution_count": null,
      "outputs": []
    },
    {
      "cell_type": "code",
      "source": [
        "sorted_top_icd_codes = sorted(top_icd_codes)\n",
        "icd_code_to_idx = dict((k, v) for v, k in enumerate(sorted_top_icd_codes))"
      ],
      "metadata": {
        "id": "n-MxiQuQTZWm"
      },
      "execution_count": null,
      "outputs": []
    },
    {
      "cell_type": "code",
      "source": [
        "# new col to be added to dataframe\n",
        "multi_hot_ecoding_col = list()\n",
        "for idx in range(len(df_admissions_with_top_diseases_grouped)):\n",
        "  icd_codes = df_admissions_with_top_diseases_grouped.iloc[idx]['ICD9_CODE']\n",
        "  encoding = [0] * 50\n",
        "  for code in icd_codes:\n",
        "    encoding[icd_code_to_idx[code]] = 1    \n",
        "  multi_hot_ecoding_col.append(encoding)\n",
        "\n",
        "df_admissions_with_top_diseases_grouped['ICD9_CODE_ENCODED'] = multi_hot_ecoding_col"
      ],
      "metadata": {
        "id": "S7vIzsO9V-63"
      },
      "execution_count": null,
      "outputs": []
    },
    {
      "cell_type": "code",
      "source": [
        "# df_admissions_with_top_diseases_grouped.head(5)\n",
        "print(len(df_admissions_with_top_diseases_grouped))\n",
        "print(len(filtered_df_disc_sum))\n",
        "# TODO: there are more records in filtered_df_disc_sum than \n",
        "# df_admissions_with_top_diseases_grouped, why??"
      ],
      "metadata": {
        "colab": {
          "base_uri": "https://localhost:8080/"
        },
        "id": "quf2pSjEWwfH",
        "outputId": "826ea8af-4fa5-4947-ae67-09604e4072fc"
      },
      "execution_count": null,
      "outputs": [
        {
          "output_type": "stream",
          "name": "stdout",
          "text": [
            "55078\n",
            "55988\n"
          ]
        }
      ]
    },
    {
      "cell_type": "code",
      "source": [
        "filtered_df_disc_sum.head(5)"
      ],
      "metadata": {
        "colab": {
          "base_uri": "https://localhost:8080/",
          "height": 582
        },
        "id": "3zy0UFFS-QTJ",
        "outputId": "ec26773b-1786-4c97-9452-e00390fd7c48"
      },
      "execution_count": null,
      "outputs": [
        {
          "output_type": "execute_result",
          "data": {
            "text/plain": [
              "   index  ROW_ID  SUBJECT_ID   HADM_ID   CHARTDATE CHARTTIME STORETIME  \\\n",
              "0      0     174       22532  167853.0  2151-08-04       NaN       NaN   \n",
              "1      1     170       22532  167853.0  2151-08-04       NaN       NaN   \n",
              "2     32     175       13702  107527.0  2118-06-14       NaN       NaN   \n",
              "3     79     176       13702  167118.0  2119-05-25       NaN       NaN   \n",
              "4    186     177       13702  196489.0  2124-08-18       NaN       NaN   \n",
              "\n",
              "            CATEGORY DESCRIPTION  CGID  ISERROR  \\\n",
              "0  Discharge summary      Report   NaN      NaN   \n",
              "1  Discharge summary      Report   NaN      NaN   \n",
              "2  Discharge summary      Report   NaN      NaN   \n",
              "3  Discharge summary      Report   NaN      NaN   \n",
              "4  Discharge summary      Report   NaN      NaN   \n",
              "\n",
              "                                                TEXT  \n",
              "0  Admission Date:  [**2151-7-16**]       Dischar...  \n",
              "1  Admission Date:  [**2151-7-16**]       Dischar...  \n",
              "2  Admission Date:  [**2118-6-2**]       Discharg...  \n",
              "3  Admission Date:  [**2119-5-4**]              D...  \n",
              "4  Admission Date:  [**2124-7-21**]              ...  "
            ],
            "text/html": [
              "\n",
              "  <div id=\"df-a4b2794e-6a98-4fb4-b4b6-4875b8a9254f\">\n",
              "    <div class=\"colab-df-container\">\n",
              "      <div>\n",
              "<style scoped>\n",
              "    .dataframe tbody tr th:only-of-type {\n",
              "        vertical-align: middle;\n",
              "    }\n",
              "\n",
              "    .dataframe tbody tr th {\n",
              "        vertical-align: top;\n",
              "    }\n",
              "\n",
              "    .dataframe thead th {\n",
              "        text-align: right;\n",
              "    }\n",
              "</style>\n",
              "<table border=\"1\" class=\"dataframe\">\n",
              "  <thead>\n",
              "    <tr style=\"text-align: right;\">\n",
              "      <th></th>\n",
              "      <th>index</th>\n",
              "      <th>ROW_ID</th>\n",
              "      <th>SUBJECT_ID</th>\n",
              "      <th>HADM_ID</th>\n",
              "      <th>CHARTDATE</th>\n",
              "      <th>CHARTTIME</th>\n",
              "      <th>STORETIME</th>\n",
              "      <th>CATEGORY</th>\n",
              "      <th>DESCRIPTION</th>\n",
              "      <th>CGID</th>\n",
              "      <th>ISERROR</th>\n",
              "      <th>TEXT</th>\n",
              "    </tr>\n",
              "  </thead>\n",
              "  <tbody>\n",
              "    <tr>\n",
              "      <th>0</th>\n",
              "      <td>0</td>\n",
              "      <td>174</td>\n",
              "      <td>22532</td>\n",
              "      <td>167853.0</td>\n",
              "      <td>2151-08-04</td>\n",
              "      <td>NaN</td>\n",
              "      <td>NaN</td>\n",
              "      <td>Discharge summary</td>\n",
              "      <td>Report</td>\n",
              "      <td>NaN</td>\n",
              "      <td>NaN</td>\n",
              "      <td>Admission Date:  [**2151-7-16**]       Dischar...</td>\n",
              "    </tr>\n",
              "    <tr>\n",
              "      <th>1</th>\n",
              "      <td>1</td>\n",
              "      <td>170</td>\n",
              "      <td>22532</td>\n",
              "      <td>167853.0</td>\n",
              "      <td>2151-08-04</td>\n",
              "      <td>NaN</td>\n",
              "      <td>NaN</td>\n",
              "      <td>Discharge summary</td>\n",
              "      <td>Report</td>\n",
              "      <td>NaN</td>\n",
              "      <td>NaN</td>\n",
              "      <td>Admission Date:  [**2151-7-16**]       Dischar...</td>\n",
              "    </tr>\n",
              "    <tr>\n",
              "      <th>2</th>\n",
              "      <td>32</td>\n",
              "      <td>175</td>\n",
              "      <td>13702</td>\n",
              "      <td>107527.0</td>\n",
              "      <td>2118-06-14</td>\n",
              "      <td>NaN</td>\n",
              "      <td>NaN</td>\n",
              "      <td>Discharge summary</td>\n",
              "      <td>Report</td>\n",
              "      <td>NaN</td>\n",
              "      <td>NaN</td>\n",
              "      <td>Admission Date:  [**2118-6-2**]       Discharg...</td>\n",
              "    </tr>\n",
              "    <tr>\n",
              "      <th>3</th>\n",
              "      <td>79</td>\n",
              "      <td>176</td>\n",
              "      <td>13702</td>\n",
              "      <td>167118.0</td>\n",
              "      <td>2119-05-25</td>\n",
              "      <td>NaN</td>\n",
              "      <td>NaN</td>\n",
              "      <td>Discharge summary</td>\n",
              "      <td>Report</td>\n",
              "      <td>NaN</td>\n",
              "      <td>NaN</td>\n",
              "      <td>Admission Date:  [**2119-5-4**]              D...</td>\n",
              "    </tr>\n",
              "    <tr>\n",
              "      <th>4</th>\n",
              "      <td>186</td>\n",
              "      <td>177</td>\n",
              "      <td>13702</td>\n",
              "      <td>196489.0</td>\n",
              "      <td>2124-08-18</td>\n",
              "      <td>NaN</td>\n",
              "      <td>NaN</td>\n",
              "      <td>Discharge summary</td>\n",
              "      <td>Report</td>\n",
              "      <td>NaN</td>\n",
              "      <td>NaN</td>\n",
              "      <td>Admission Date:  [**2124-7-21**]              ...</td>\n",
              "    </tr>\n",
              "  </tbody>\n",
              "</table>\n",
              "</div>\n",
              "      <button class=\"colab-df-convert\" onclick=\"convertToInteractive('df-a4b2794e-6a98-4fb4-b4b6-4875b8a9254f')\"\n",
              "              title=\"Convert this dataframe to an interactive table.\"\n",
              "              style=\"display:none;\">\n",
              "        \n",
              "  <svg xmlns=\"http://www.w3.org/2000/svg\" height=\"24px\"viewBox=\"0 0 24 24\"\n",
              "       width=\"24px\">\n",
              "    <path d=\"M0 0h24v24H0V0z\" fill=\"none\"/>\n",
              "    <path d=\"M18.56 5.44l.94 2.06.94-2.06 2.06-.94-2.06-.94-.94-2.06-.94 2.06-2.06.94zm-11 1L8.5 8.5l.94-2.06 2.06-.94-2.06-.94L8.5 2.5l-.94 2.06-2.06.94zm10 10l.94 2.06.94-2.06 2.06-.94-2.06-.94-.94-2.06-.94 2.06-2.06.94z\"/><path d=\"M17.41 7.96l-1.37-1.37c-.4-.4-.92-.59-1.43-.59-.52 0-1.04.2-1.43.59L10.3 9.45l-7.72 7.72c-.78.78-.78 2.05 0 2.83L4 21.41c.39.39.9.59 1.41.59.51 0 1.02-.2 1.41-.59l7.78-7.78 2.81-2.81c.8-.78.8-2.07 0-2.86zM5.41 20L4 18.59l7.72-7.72 1.47 1.35L5.41 20z\"/>\n",
              "  </svg>\n",
              "      </button>\n",
              "      \n",
              "  <style>\n",
              "    .colab-df-container {\n",
              "      display:flex;\n",
              "      flex-wrap:wrap;\n",
              "      gap: 12px;\n",
              "    }\n",
              "\n",
              "    .colab-df-convert {\n",
              "      background-color: #E8F0FE;\n",
              "      border: none;\n",
              "      border-radius: 50%;\n",
              "      cursor: pointer;\n",
              "      display: none;\n",
              "      fill: #1967D2;\n",
              "      height: 32px;\n",
              "      padding: 0 0 0 0;\n",
              "      width: 32px;\n",
              "    }\n",
              "\n",
              "    .colab-df-convert:hover {\n",
              "      background-color: #E2EBFA;\n",
              "      box-shadow: 0px 1px 2px rgba(60, 64, 67, 0.3), 0px 1px 3px 1px rgba(60, 64, 67, 0.15);\n",
              "      fill: #174EA6;\n",
              "    }\n",
              "\n",
              "    [theme=dark] .colab-df-convert {\n",
              "      background-color: #3B4455;\n",
              "      fill: #D2E3FC;\n",
              "    }\n",
              "\n",
              "    [theme=dark] .colab-df-convert:hover {\n",
              "      background-color: #434B5C;\n",
              "      box-shadow: 0px 1px 3px 1px rgba(0, 0, 0, 0.15);\n",
              "      filter: drop-shadow(0px 1px 2px rgba(0, 0, 0, 0.3));\n",
              "      fill: #FFFFFF;\n",
              "    }\n",
              "  </style>\n",
              "\n",
              "      <script>\n",
              "        const buttonEl =\n",
              "          document.querySelector('#df-a4b2794e-6a98-4fb4-b4b6-4875b8a9254f button.colab-df-convert');\n",
              "        buttonEl.style.display =\n",
              "          google.colab.kernel.accessAllowed ? 'block' : 'none';\n",
              "\n",
              "        async function convertToInteractive(key) {\n",
              "          const element = document.querySelector('#df-a4b2794e-6a98-4fb4-b4b6-4875b8a9254f');\n",
              "          const dataTable =\n",
              "            await google.colab.kernel.invokeFunction('convertToInteractive',\n",
              "                                                     [key], {});\n",
              "          if (!dataTable) return;\n",
              "\n",
              "          const docLinkHtml = 'Like what you see? Visit the ' +\n",
              "            '<a target=\"_blank\" href=https://colab.research.google.com/notebooks/data_table.ipynb>data table notebook</a>'\n",
              "            + ' to learn more about interactive tables.';\n",
              "          element.innerHTML = '';\n",
              "          dataTable['output_type'] = 'display_data';\n",
              "          await google.colab.output.renderOutput(dataTable, element);\n",
              "          const docLink = document.createElement('div');\n",
              "          docLink.innerHTML = docLinkHtml;\n",
              "          element.appendChild(docLink);\n",
              "        }\n",
              "      </script>\n",
              "    </div>\n",
              "  </div>\n",
              "  "
            ]
          },
          "metadata": {},
          "execution_count": 24
        }
      ]
    },
    {
      "cell_type": "code",
      "source": [
        "df_admissions_with_top_diseases_grouped.head(5)"
      ],
      "metadata": {
        "colab": {
          "base_uri": "https://localhost:8080/",
          "height": 206
        },
        "id": "a9Y512DV9eDh",
        "outputId": "daf1536b-bd81-4e9f-a93a-067e97efe928"
      },
      "execution_count": null,
      "outputs": [
        {
          "output_type": "execute_result",
          "data": {
            "text/plain": [
              "   SUBJECT_ID  HADM_ID                   ICD9_CODE  \\\n",
              "0           2   163353         [V3001, V053, V290]   \n",
              "1           3   145834   [0389, 5849, 41071, 4280]   \n",
              "2           5   178980         [V3000, V053, V290]   \n",
              "3           6   107064  [40391, 2767, 2859, V1582]   \n",
              "4           7   118037         [V3001, V053, V290]   \n",
              "\n",
              "                                   ICD9_CODE_ENCODED  \n",
              "0  [0, 0, 0, 0, 0, 0, 0, 0, 0, 0, 0, 0, 0, 0, 0, ...  \n",
              "1  [1, 0, 0, 0, 0, 0, 0, 0, 0, 0, 0, 0, 0, 0, 0, ...  \n",
              "2  [0, 0, 0, 0, 0, 0, 0, 0, 0, 0, 0, 0, 0, 0, 0, ...  \n",
              "3  [0, 0, 0, 0, 0, 0, 0, 0, 1, 0, 1, 0, 0, 0, 0, ...  \n",
              "4  [0, 0, 0, 0, 0, 0, 0, 0, 0, 0, 0, 0, 0, 0, 0, ...  "
            ],
            "text/html": [
              "\n",
              "  <div id=\"df-5c59ad5b-9861-4060-aae0-4282024e39f0\">\n",
              "    <div class=\"colab-df-container\">\n",
              "      <div>\n",
              "<style scoped>\n",
              "    .dataframe tbody tr th:only-of-type {\n",
              "        vertical-align: middle;\n",
              "    }\n",
              "\n",
              "    .dataframe tbody tr th {\n",
              "        vertical-align: top;\n",
              "    }\n",
              "\n",
              "    .dataframe thead th {\n",
              "        text-align: right;\n",
              "    }\n",
              "</style>\n",
              "<table border=\"1\" class=\"dataframe\">\n",
              "  <thead>\n",
              "    <tr style=\"text-align: right;\">\n",
              "      <th></th>\n",
              "      <th>SUBJECT_ID</th>\n",
              "      <th>HADM_ID</th>\n",
              "      <th>ICD9_CODE</th>\n",
              "      <th>ICD9_CODE_ENCODED</th>\n",
              "    </tr>\n",
              "  </thead>\n",
              "  <tbody>\n",
              "    <tr>\n",
              "      <th>0</th>\n",
              "      <td>2</td>\n",
              "      <td>163353</td>\n",
              "      <td>[V3001, V053, V290]</td>\n",
              "      <td>[0, 0, 0, 0, 0, 0, 0, 0, 0, 0, 0, 0, 0, 0, 0, ...</td>\n",
              "    </tr>\n",
              "    <tr>\n",
              "      <th>1</th>\n",
              "      <td>3</td>\n",
              "      <td>145834</td>\n",
              "      <td>[0389, 5849, 41071, 4280]</td>\n",
              "      <td>[1, 0, 0, 0, 0, 0, 0, 0, 0, 0, 0, 0, 0, 0, 0, ...</td>\n",
              "    </tr>\n",
              "    <tr>\n",
              "      <th>2</th>\n",
              "      <td>5</td>\n",
              "      <td>178980</td>\n",
              "      <td>[V3000, V053, V290]</td>\n",
              "      <td>[0, 0, 0, 0, 0, 0, 0, 0, 0, 0, 0, 0, 0, 0, 0, ...</td>\n",
              "    </tr>\n",
              "    <tr>\n",
              "      <th>3</th>\n",
              "      <td>6</td>\n",
              "      <td>107064</td>\n",
              "      <td>[40391, 2767, 2859, V1582]</td>\n",
              "      <td>[0, 0, 0, 0, 0, 0, 0, 0, 1, 0, 1, 0, 0, 0, 0, ...</td>\n",
              "    </tr>\n",
              "    <tr>\n",
              "      <th>4</th>\n",
              "      <td>7</td>\n",
              "      <td>118037</td>\n",
              "      <td>[V3001, V053, V290]</td>\n",
              "      <td>[0, 0, 0, 0, 0, 0, 0, 0, 0, 0, 0, 0, 0, 0, 0, ...</td>\n",
              "    </tr>\n",
              "  </tbody>\n",
              "</table>\n",
              "</div>\n",
              "      <button class=\"colab-df-convert\" onclick=\"convertToInteractive('df-5c59ad5b-9861-4060-aae0-4282024e39f0')\"\n",
              "              title=\"Convert this dataframe to an interactive table.\"\n",
              "              style=\"display:none;\">\n",
              "        \n",
              "  <svg xmlns=\"http://www.w3.org/2000/svg\" height=\"24px\"viewBox=\"0 0 24 24\"\n",
              "       width=\"24px\">\n",
              "    <path d=\"M0 0h24v24H0V0z\" fill=\"none\"/>\n",
              "    <path d=\"M18.56 5.44l.94 2.06.94-2.06 2.06-.94-2.06-.94-.94-2.06-.94 2.06-2.06.94zm-11 1L8.5 8.5l.94-2.06 2.06-.94-2.06-.94L8.5 2.5l-.94 2.06-2.06.94zm10 10l.94 2.06.94-2.06 2.06-.94-2.06-.94-.94-2.06-.94 2.06-2.06.94z\"/><path d=\"M17.41 7.96l-1.37-1.37c-.4-.4-.92-.59-1.43-.59-.52 0-1.04.2-1.43.59L10.3 9.45l-7.72 7.72c-.78.78-.78 2.05 0 2.83L4 21.41c.39.39.9.59 1.41.59.51 0 1.02-.2 1.41-.59l7.78-7.78 2.81-2.81c.8-.78.8-2.07 0-2.86zM5.41 20L4 18.59l7.72-7.72 1.47 1.35L5.41 20z\"/>\n",
              "  </svg>\n",
              "      </button>\n",
              "      \n",
              "  <style>\n",
              "    .colab-df-container {\n",
              "      display:flex;\n",
              "      flex-wrap:wrap;\n",
              "      gap: 12px;\n",
              "    }\n",
              "\n",
              "    .colab-df-convert {\n",
              "      background-color: #E8F0FE;\n",
              "      border: none;\n",
              "      border-radius: 50%;\n",
              "      cursor: pointer;\n",
              "      display: none;\n",
              "      fill: #1967D2;\n",
              "      height: 32px;\n",
              "      padding: 0 0 0 0;\n",
              "      width: 32px;\n",
              "    }\n",
              "\n",
              "    .colab-df-convert:hover {\n",
              "      background-color: #E2EBFA;\n",
              "      box-shadow: 0px 1px 2px rgba(60, 64, 67, 0.3), 0px 1px 3px 1px rgba(60, 64, 67, 0.15);\n",
              "      fill: #174EA6;\n",
              "    }\n",
              "\n",
              "    [theme=dark] .colab-df-convert {\n",
              "      background-color: #3B4455;\n",
              "      fill: #D2E3FC;\n",
              "    }\n",
              "\n",
              "    [theme=dark] .colab-df-convert:hover {\n",
              "      background-color: #434B5C;\n",
              "      box-shadow: 0px 1px 3px 1px rgba(0, 0, 0, 0.15);\n",
              "      filter: drop-shadow(0px 1px 2px rgba(0, 0, 0, 0.3));\n",
              "      fill: #FFFFFF;\n",
              "    }\n",
              "  </style>\n",
              "\n",
              "      <script>\n",
              "        const buttonEl =\n",
              "          document.querySelector('#df-5c59ad5b-9861-4060-aae0-4282024e39f0 button.colab-df-convert');\n",
              "        buttonEl.style.display =\n",
              "          google.colab.kernel.accessAllowed ? 'block' : 'none';\n",
              "\n",
              "        async function convertToInteractive(key) {\n",
              "          const element = document.querySelector('#df-5c59ad5b-9861-4060-aae0-4282024e39f0');\n",
              "          const dataTable =\n",
              "            await google.colab.kernel.invokeFunction('convertToInteractive',\n",
              "                                                     [key], {});\n",
              "          if (!dataTable) return;\n",
              "\n",
              "          const docLinkHtml = 'Like what you see? Visit the ' +\n",
              "            '<a target=\"_blank\" href=https://colab.research.google.com/notebooks/data_table.ipynb>data table notebook</a>'\n",
              "            + ' to learn more about interactive tables.';\n",
              "          element.innerHTML = '';\n",
              "          dataTable['output_type'] = 'display_data';\n",
              "          await google.colab.output.renderOutput(dataTable, element);\n",
              "          const docLink = document.createElement('div');\n",
              "          docLink.innerHTML = docLinkHtml;\n",
              "          element.appendChild(docLink);\n",
              "        }\n",
              "      </script>\n",
              "    </div>\n",
              "  </div>\n",
              "  "
            ]
          },
          "metadata": {},
          "execution_count": 22
        }
      ]
    },
    {
      "cell_type": "code",
      "source": [
        "# create our final dataset we will be working\n",
        "# join df_admissions_with_top_diseases_grouped and filtered_df_disc_sum"
      ],
      "metadata": {
        "id": "IS1LWaH4X6pa"
      },
      "execution_count": null,
      "outputs": []
    }
  ],
  "metadata": {
    "colab": {
      "collapsed_sections": [],
      "name": "CS598 Deep Learning For Healthcare Final Project",
      "provenance": [],
      "history_visible": true,
      "machine_shape": "hm",
      "background_execution": "on",
      "toc_visible": true,
      "include_colab_link": true
    },
    "kernelspec": {
      "display_name": "Python 3",
      "name": "python3"
    },
    "language_info": {
      "name": "python"
    }
  },
  "nbformat": 4,
  "nbformat_minor": 0
}